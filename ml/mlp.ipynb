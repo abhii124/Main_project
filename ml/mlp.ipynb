{
 "cells": [
  {
   "cell_type": "code",
   "execution_count": 1,
   "id": "aacaadf7",
   "metadata": {},
   "outputs": [
    {
     "name": "stdout",
     "output_type": "stream",
     "text": [
      "--- Part 2: Creating the Initial Model ---\n",
      "Loading server data from D:\\FedShield,Personal\\wataiData\\csv\\CICIoT2023\\federated_data\\server_df.csv...\n",
      "Preprocessing data...\n",
      "Saved label_encoder.pkl and scaler.pkl.\n",
      "Building and training the initial model...\n",
      "Epoch 1/5\n",
      "\u001b[1m14415/14415\u001b[0m \u001b[32m━━━━━━━━━━━━━━━━━━━━\u001b[0m\u001b[37m\u001b[0m \u001b[1m38s\u001b[0m 2ms/step - accuracy: 0.8482 - loss: 0.3714\n",
      "Epoch 2/5\n",
      "\u001b[1m14415/14415\u001b[0m \u001b[32m━━━━━━━━━━━━━━━━━━━━\u001b[0m\u001b[37m\u001b[0m \u001b[1m36s\u001b[0m 3ms/step - accuracy: 0.9550 - loss: 0.1502\n",
      "Epoch 3/5\n",
      "\u001b[1m14415/14415\u001b[0m \u001b[32m━━━━━━━━━━━━━━━━━━━━\u001b[0m\u001b[37m\u001b[0m \u001b[1m37s\u001b[0m 3ms/step - accuracy: 0.9814 - loss: 0.0684\n",
      "Epoch 4/5\n",
      "\u001b[1m14415/14415\u001b[0m \u001b[32m━━━━━━━━━━━━━━━━━━━━\u001b[0m\u001b[37m\u001b[0m \u001b[1m36s\u001b[0m 2ms/step - accuracy: 0.9832 - loss: 0.0572\n",
      "Epoch 5/5\n",
      "\u001b[1m14415/14415\u001b[0m \u001b[32m━━━━━━━━━━━━━━━━━━━━\u001b[0m\u001b[37m\u001b[0m \u001b[1m37s\u001b[0m 3ms/step - accuracy: 0.9840 - loss: 0.0529\n",
      "Extracting and saving model weights...\n",
      "\n",
      "✅ Part 2 Complete!\n",
      "Initial model weights saved to: D:\\FedShield,Personal\\wataiData\\csv\\CICIoT2023\\federated_data\\initial_weights.pkl\n"
     ]
    }
   ],
   "source": [
    "import pandas as pd\n",
    "import tensorflow as tf\n",
    "from sklearn.preprocessing import StandardScaler, LabelEncoder\n",
    "import pickle\n",
    "import os\n",
    "\n",
    "print(\"--- Part 2: Creating the Initial Model ---\")\n",
    "\n",
    "# --- Configuration with your specific paths ---\n",
    "INPUT_DIR = r\"D:\\FedShield,Personal\\wataiData\\csv\\CICIoT2023\\federated_data\"\n",
    "SERVER_DF_PATH = os.path.join(INPUT_DIR, 'server_df.csv')\n",
    "\n",
    "# --- Load Server Data ---\n",
    "print(f\"Loading server data from {SERVER_DF_PATH}...\")\n",
    "server_df = pd.read_csv(SERVER_DF_PATH)\n",
    "\n",
    "# --- Preprocessing ---\n",
    "print(\"Preprocessing data...\")\n",
    "X_server = server_df.drop('label', axis=1)\n",
    "y_server = server_df['label']\n",
    "\n",
    "label_encoder = LabelEncoder()\n",
    "y_server_encoded = label_encoder.fit_transform(y_server)\n",
    "\n",
    "scaler = StandardScaler()\n",
    "X_server_scaled = scaler.fit_transform(X_server)\n",
    "\n",
    "with open(os.path.join(INPUT_DIR, 'label_encoder.pkl'), 'wb') as f:\n",
    "    pickle.dump(label_encoder, f)\n",
    "with open(os.path.join(INPUT_DIR, 'scaler.pkl'), 'wb') as f:\n",
    "    pickle.dump(scaler, f)\n",
    "print(\"Saved label_encoder.pkl and scaler.pkl.\")\n",
    "\n",
    "# --- Build and Train Model ---\n",
    "print(\"Building and training the initial model...\")\n",
    "\n",
    "def create_model(input_shape, num_classes):\n",
    "    model = tf.keras.models.Sequential([\n",
    "        tf.keras.layers.Input(shape=(input_shape,)),\n",
    "        tf.keras.layers.Dense(64, activation='relu'),\n",
    "        tf.keras.layers.Dense(32, activation='relu'),\n",
    "        tf.keras.layers.Dense(num_classes, activation='softmax')\n",
    "    ])\n",
    "    model.compile(optimizer='adam', loss='sparse_categorical_crossentropy', metrics=['accuracy'])\n",
    "    return model\n",
    "\n",
    "initial_model = create_model(X_server_scaled.shape[1], len(label_encoder.classes_))\n",
    "initial_model.fit(X_server_scaled, y_server_encoded, epochs=5, batch_size=256, verbose=1)\n",
    "\n",
    "# --- Extract and Save Weights ---\n",
    "print(\"Extracting and saving model weights...\")\n",
    "initial_weights = initial_model.get_weights()\n",
    "with open(os.path.join(INPUT_DIR, 'initial_weights.pkl'), 'wb') as f:\n",
    "    pickle.dump(initial_weights, f)\n",
    "\n",
    "print(f\"\\n✅ Part 2 Complete!\")\n",
    "print(f\"Initial model weights saved to: {os.path.join(INPUT_DIR, 'initial_weights.pkl')}\")"
   ]
  }
 ],
 "metadata": {
  "kernelspec": {
   "display_name": ".venv",
   "language": "python",
   "name": "python3"
  },
  "language_info": {
   "codemirror_mode": {
    "name": "ipython",
    "version": 3
   },
   "file_extension": ".py",
   "mimetype": "text/x-python",
   "name": "python",
   "nbconvert_exporter": "python",
   "pygments_lexer": "ipython3",
   "version": "3.12.0"
  }
 },
 "nbformat": 4,
 "nbformat_minor": 5
}
