{
 "cells": [
  {
   "cell_type": "code",
   "execution_count": 1,
   "id": "b6839c01",
   "metadata": {},
   "outputs": [
    {
     "name": "stdout",
     "output_type": "stream",
     "text": [
      "--- Part 2: Creating the Initial LSTM Model ---\n",
      "Loading server data from D:\\FedShield,Personal\\wataiData\\csv\\CICIoT2023\\federated_data\\server_df.csv...\n",
      "Preprocessing data...\n",
      "Saved label_encoder.pkl and scaler.pkl.\n",
      "Original data shape: (3689999, 46)\n",
      "Reshaped data for LSTM: (3689999, 1, 46)\n",
      "Building and training the LSTM model...\n"
     ]
    },
    {
     "name": "stderr",
     "output_type": "stream",
     "text": [
      "d:\\FedShield,Personal\\CICIoT2023\\.venv\\Lib\\site-packages\\keras\\src\\layers\\rnn\\rnn.py:199: UserWarning: Do not pass an `input_shape`/`input_dim` argument to a layer. When using Sequential models, prefer using an `Input(shape)` object as the first layer in the model instead.\n",
      "  super().__init__(**kwargs)\n"
     ]
    },
    {
     "data": {
      "text/html": [
       "<pre style=\"white-space:pre;overflow-x:auto;line-height:normal;font-family:Menlo,'DejaVu Sans Mono',consolas,'Courier New',monospace\"><span style=\"font-weight: bold\">Model: \"sequential\"</span>\n",
       "</pre>\n"
      ],
      "text/plain": [
       "\u001b[1mModel: \"sequential\"\u001b[0m\n"
      ]
     },
     "metadata": {},
     "output_type": "display_data"
    },
    {
     "data": {
      "text/html": [
       "<pre style=\"white-space:pre;overflow-x:auto;line-height:normal;font-family:Menlo,'DejaVu Sans Mono',consolas,'Courier New',monospace\">┏━━━━━━━━━━━━━━━━━━━━━━━━━━━━━━━━━┳━━━━━━━━━━━━━━━━━━━━━━━━┳━━━━━━━━━━━━━━━┓\n",
       "┃<span style=\"font-weight: bold\"> Layer (type)                    </span>┃<span style=\"font-weight: bold\"> Output Shape           </span>┃<span style=\"font-weight: bold\">       Param # </span>┃\n",
       "┡━━━━━━━━━━━━━━━━━━━━━━━━━━━━━━━━━╇━━━━━━━━━━━━━━━━━━━━━━━━╇━━━━━━━━━━━━━━━┩\n",
       "│ lstm (<span style=\"color: #0087ff; text-decoration-color: #0087ff\">LSTM</span>)                     │ (<span style=\"color: #00d7ff; text-decoration-color: #00d7ff\">None</span>, <span style=\"color: #00af00; text-decoration-color: #00af00\">64</span>)             │        <span style=\"color: #00af00; text-decoration-color: #00af00\">28,416</span> │\n",
       "├─────────────────────────────────┼────────────────────────┼───────────────┤\n",
       "│ dense (<span style=\"color: #0087ff; text-decoration-color: #0087ff\">Dense</span>)                   │ (<span style=\"color: #00d7ff; text-decoration-color: #00d7ff\">None</span>, <span style=\"color: #00af00; text-decoration-color: #00af00\">32</span>)             │         <span style=\"color: #00af00; text-decoration-color: #00af00\">2,080</span> │\n",
       "├─────────────────────────────────┼────────────────────────┼───────────────┤\n",
       "│ dense_1 (<span style=\"color: #0087ff; text-decoration-color: #0087ff\">Dense</span>)                 │ (<span style=\"color: #00d7ff; text-decoration-color: #00d7ff\">None</span>, <span style=\"color: #00af00; text-decoration-color: #00af00\">34</span>)             │         <span style=\"color: #00af00; text-decoration-color: #00af00\">1,122</span> │\n",
       "└─────────────────────────────────┴────────────────────────┴───────────────┘\n",
       "</pre>\n"
      ],
      "text/plain": [
       "┏━━━━━━━━━━━━━━━━━━━━━━━━━━━━━━━━━┳━━━━━━━━━━━━━━━━━━━━━━━━┳━━━━━━━━━━━━━━━┓\n",
       "┃\u001b[1m \u001b[0m\u001b[1mLayer (type)                   \u001b[0m\u001b[1m \u001b[0m┃\u001b[1m \u001b[0m\u001b[1mOutput Shape          \u001b[0m\u001b[1m \u001b[0m┃\u001b[1m \u001b[0m\u001b[1m      Param #\u001b[0m\u001b[1m \u001b[0m┃\n",
       "┡━━━━━━━━━━━━━━━━━━━━━━━━━━━━━━━━━╇━━━━━━━━━━━━━━━━━━━━━━━━╇━━━━━━━━━━━━━━━┩\n",
       "│ lstm (\u001b[38;5;33mLSTM\u001b[0m)                     │ (\u001b[38;5;45mNone\u001b[0m, \u001b[38;5;34m64\u001b[0m)             │        \u001b[38;5;34m28,416\u001b[0m │\n",
       "├─────────────────────────────────┼────────────────────────┼───────────────┤\n",
       "│ dense (\u001b[38;5;33mDense\u001b[0m)                   │ (\u001b[38;5;45mNone\u001b[0m, \u001b[38;5;34m32\u001b[0m)             │         \u001b[38;5;34m2,080\u001b[0m │\n",
       "├─────────────────────────────────┼────────────────────────┼───────────────┤\n",
       "│ dense_1 (\u001b[38;5;33mDense\u001b[0m)                 │ (\u001b[38;5;45mNone\u001b[0m, \u001b[38;5;34m34\u001b[0m)             │         \u001b[38;5;34m1,122\u001b[0m │\n",
       "└─────────────────────────────────┴────────────────────────┴───────────────┘\n"
      ]
     },
     "metadata": {},
     "output_type": "display_data"
    },
    {
     "data": {
      "text/html": [
       "<pre style=\"white-space:pre;overflow-x:auto;line-height:normal;font-family:Menlo,'DejaVu Sans Mono',consolas,'Courier New',monospace\"><span style=\"font-weight: bold\"> Total params: </span><span style=\"color: #00af00; text-decoration-color: #00af00\">31,618</span> (123.51 KB)\n",
       "</pre>\n"
      ],
      "text/plain": [
       "\u001b[1m Total params: \u001b[0m\u001b[38;5;34m31,618\u001b[0m (123.51 KB)\n"
      ]
     },
     "metadata": {},
     "output_type": "display_data"
    },
    {
     "data": {
      "text/html": [
       "<pre style=\"white-space:pre;overflow-x:auto;line-height:normal;font-family:Menlo,'DejaVu Sans Mono',consolas,'Courier New',monospace\"><span style=\"font-weight: bold\"> Trainable params: </span><span style=\"color: #00af00; text-decoration-color: #00af00\">31,618</span> (123.51 KB)\n",
       "</pre>\n"
      ],
      "text/plain": [
       "\u001b[1m Trainable params: \u001b[0m\u001b[38;5;34m31,618\u001b[0m (123.51 KB)\n"
      ]
     },
     "metadata": {},
     "output_type": "display_data"
    },
    {
     "data": {
      "text/html": [
       "<pre style=\"white-space:pre;overflow-x:auto;line-height:normal;font-family:Menlo,'DejaVu Sans Mono',consolas,'Courier New',monospace\"><span style=\"font-weight: bold\"> Non-trainable params: </span><span style=\"color: #00af00; text-decoration-color: #00af00\">0</span> (0.00 B)\n",
       "</pre>\n"
      ],
      "text/plain": [
       "\u001b[1m Non-trainable params: \u001b[0m\u001b[38;5;34m0\u001b[0m (0.00 B)\n"
      ]
     },
     "metadata": {},
     "output_type": "display_data"
    },
    {
     "name": "stdout",
     "output_type": "stream",
     "text": [
      "Epoch 1/5\n",
      "\u001b[1m14415/14415\u001b[0m \u001b[32m━━━━━━━━━━━━━━━━━━━━\u001b[0m\u001b[37m\u001b[0m \u001b[1m43s\u001b[0m 3ms/step - accuracy: 0.9045 - loss: 0.2586\n",
      "Epoch 2/5\n",
      "\u001b[1m14415/14415\u001b[0m \u001b[32m━━━━━━━━━━━━━━━━━━━━\u001b[0m\u001b[37m\u001b[0m \u001b[1m41s\u001b[0m 3ms/step - accuracy: 0.9839 - loss: 0.0544\n",
      "Epoch 3/5\n",
      "\u001b[1m14415/14415\u001b[0m \u001b[32m━━━━━━━━━━━━━━━━━━━━\u001b[0m\u001b[37m\u001b[0m \u001b[1m41s\u001b[0m 3ms/step - accuracy: 0.9851 - loss: 0.0465\n",
      "Epoch 4/5\n",
      "\u001b[1m14415/14415\u001b[0m \u001b[32m━━━━━━━━━━━━━━━━━━━━\u001b[0m\u001b[37m\u001b[0m \u001b[1m41s\u001b[0m 3ms/step - accuracy: 0.9859 - loss: 0.0433\n",
      "Epoch 5/5\n",
      "\u001b[1m14415/14415\u001b[0m \u001b[32m━━━━━━━━━━━━━━━━━━━━\u001b[0m\u001b[37m\u001b[0m \u001b[1m41s\u001b[0m 3ms/step - accuracy: 0.9862 - loss: 0.0418\n",
      "Extracting and saving model weights...\n",
      "\n",
      "✅ Part 2 (LSTM) Complete!\n",
      "Initial LSTM model weights saved to: D:\\FedShield,Personal\\wataiData\\csv\\CICIoT2023\\federated_data\\initial_weights_lstm.pkl\n"
     ]
    }
   ],
   "source": [
    "import pandas as pd\n",
    "import numpy as np\n",
    "import tensorflow as tf\n",
    "from sklearn.preprocessing import StandardScaler, LabelEncoder\n",
    "import pickle\n",
    "import os\n",
    "\n",
    "print(\"--- Part 2: Creating the Initial LSTM Model ---\")\n",
    "\n",
    "# --- Configuration ---\n",
    "INPUT_DIR = r\"D:\\FedShield,Personal\\wataiData\\csv\\CICIoT2023\\federated_data\"\n",
    "SERVER_DF_PATH = os.path.join(INPUT_DIR, 'server_df.csv')\n",
    "\n",
    "# --- Load Server Data ---\n",
    "print(f\"Loading server data from {SERVER_DF_PATH}...\")\n",
    "server_df = pd.read_csv(SERVER_DF_PATH)\n",
    "\n",
    "# --- Preprocessing ---\n",
    "print(\"Preprocessing data...\")\n",
    "X_server = server_df.drop('label', axis=1)\n",
    "y_server = server_df['label']\n",
    "\n",
    "label_encoder = LabelEncoder()\n",
    "y_server_encoded = label_encoder.fit_transform(y_server)\n",
    "\n",
    "scaler = StandardScaler()\n",
    "X_server_scaled = scaler.fit_transform(X_server)\n",
    "\n",
    "# --- Save the preprocessors ---\n",
    "with open(os.path.join(INPUT_DIR, 'label_encoder.pkl'), 'wb') as f:\n",
    "    pickle.dump(label_encoder, f)\n",
    "with open(os.path.join(INPUT_DIR, 'scaler.pkl'), 'wb') as f:\n",
    "    pickle.dump(scaler, f)\n",
    "print(\"Saved label_encoder.pkl and scaler.pkl.\")\n",
    "\n",
    "# --- Reshape Data for LSTM ---\n",
    "# The LSTM layer expects a 3D input: (samples, timesteps, features)\n",
    "# We'll treat each row as 1 timestep with N features.\n",
    "n_features = X_server_scaled.shape[1]\n",
    "X_server_reshaped = X_server_scaled.reshape(-1, 1, n_features)\n",
    "\n",
    "print(f\"Original data shape: {X_server_scaled.shape}\")\n",
    "print(f\"Reshaped data for LSTM: {X_server_reshaped.shape}\")\n",
    "\n",
    "# --- Build and Train LSTM Model ---\n",
    "print(\"Building and training the LSTM model...\")\n",
    "\n",
    "def create_lstm_model(input_shape, num_classes):\n",
    "    model = tf.keras.models.Sequential([\n",
    "        # LSTM layer to process the sequence\n",
    "        tf.keras.layers.LSTM(64, input_shape=input_shape),\n",
    "        \n",
    "        # Standard Dense layer to make the final classification\n",
    "        tf.keras.layers.Dense(32, activation='relu'),\n",
    "        tf.keras.layers.Dense(num_classes, activation='softmax')\n",
    "    ])\n",
    "    model.compile(optimizer='adam', loss='sparse_categorical_crossentropy', metrics=['accuracy'])\n",
    "    return model\n",
    "\n",
    "# The input shape is now (timesteps, features)\n",
    "lstm_input_shape = (X_server_reshaped.shape[1], X_server_reshaped.shape[2])\n",
    "initial_model = create_lstm_model(lstm_input_shape, len(label_encoder.classes_))\n",
    "\n",
    "initial_model.summary()\n",
    "\n",
    "initial_model.fit(X_server_reshaped, y_server_encoded, epochs=5, batch_size=256, verbose=1)\n",
    "\n",
    "# --- Extract and Save Weights ---\n",
    "print(\"Extracting and saving model weights...\")\n",
    "initial_weights = initial_model.get_weights()\n",
    "with open(os.path.join(INPUT_DIR, 'initial_weights_lstm.pkl'), 'wb') as f:\n",
    "    pickle.dump(initial_weights, f)\n",
    "\n",
    "print(f\"\\n✅ Part 2 (LSTM) Complete!\")\n",
    "print(f\"Initial LSTM model weights saved to: {os.path.join(INPUT_DIR, 'initial_weights_lstm.pkl')}\")"
   ]
  }
 ],
 "metadata": {
  "kernelspec": {
   "display_name": ".venv",
   "language": "python",
   "name": "python3"
  },
  "language_info": {
   "codemirror_mode": {
    "name": "ipython",
    "version": 3
   },
   "file_extension": ".py",
   "mimetype": "text/x-python",
   "name": "python",
   "nbconvert_exporter": "python",
   "pygments_lexer": "ipython3",
   "version": "3.12.0"
  }
 },
 "nbformat": 4,
 "nbformat_minor": 5
}
